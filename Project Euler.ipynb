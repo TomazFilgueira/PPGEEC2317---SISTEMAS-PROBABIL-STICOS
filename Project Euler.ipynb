{
 "cells": [
  {
   "cell_type": "markdown",
   "id": "22cbfb60",
   "metadata": {},
   "source": [
    "# Project Euler introduction:\n",
    "\n",
    "What is Project Euler?\n",
    "Project Euler is a series of challenging mathematical/computer programming problems that will require more than just mathematical insights to solve. \n",
    "Although mathematics will help you arrive at elegant and efficient methods, the use of a computer and programming skills will be required to solve most problems.\n",
    "\n",
    "The motivation for starting Project Euler, and its continuation, is to provide a platform for the inquiring mind to delve into unfamiliar areas and learn new concepts in a fun and recreational context.\n"
   ]
  },
  {
   "cell_type": "markdown",
   "id": "e24b087b",
   "metadata": {},
   "source": [
    "# Problem 0 \n",
    "\n",
    "A number is a perfect square, or a square number, if it is the square of a positive integer.\n",
    "For example, 25 is a square number because 5² = 5 X 5 = 25; it is also an odd square.\n",
    "\n",
    "The first 5 square numbers are: 1, 4, 9, 16, 25\n",
    ", and the sum of the odd squares is 1 + 9 + 25 = 35.\n",
    "\n",
    "Among the first 410 thousand square numbers, what is the sum of all the odd squares?"
   ]
  },
  {
   "cell_type": "code",
   "execution_count": 3,
   "id": "b7f6e634",
   "metadata": {},
   "outputs": [
    {
     "name": "stdout",
     "output_type": "stream",
     "text": [
      "11486833333265000\n"
     ]
    }
   ],
   "source": [
    "# Define o limite\n",
    "limite = 410000\n",
    "\n",
    "# Inicializa a soma\n",
    "soma_total = 0\n",
    "\n",
    "# Itera de 1 até o limite\n",
    "for i in range(1, limite + 1):\n",
    "  # Verifica se o número é ímpar\n",
    "  if i % 2 != 0:\n",
    "    # Adiciona o quadrado do número à soma\n",
    "    soma_total += i * i\n",
    "\n",
    "print(soma_total)\n",
    "# Resultado: 11486765"
   ]
  },
  {
   "cell_type": "markdown",
   "id": "13cd34ab",
   "metadata": {},
   "source": [
    "# Análise do problema 151\n",
    "\n",
    "**Autor:** [Seu Nome Aqui]\n",
    "**Disciplina:** Análise de Processos Estocásticos\n",
    "**Data:** 3 de Outubro de 2025\n",
    "\n",
    "---\n",
    "\n",
    "## 1. Modelo do Processo Estocástico\n",
    "\n",
    "### 1.1. Definição do Problema\n",
    "O problema descreve um processo estocástico de tempo discreto com um espaço de estados finito. O processo é inicializado com um lote contendo uma única folha de papel de tamanho A1. Em cada passo subsequente, uma folha é selecionada uniformemente de todas as folhas no lote. Se a folha selecionada for de tamanho $A_i$ com $i \\in \\{1, 2, 3, 4\\}$, ela é removida e substituída por duas folhas de tamanho $A_{i+1}$. O processo termina quando o lote contém exclusivamente folhas de tamanho A5.\n",
    "\n",
    "O objetivo é determinar o valor esperado do número total de vezes que o lote é observado em um estado contendo exatamente uma folha.\n",
    "\n",
    "### 1.2. Espaço de Estados\n",
    "O estado do sistema em qualquer passo pode ser descrito por um vetor de contagens $s = (c_1, c_2, c_3, c_4, c_5)$, onde $c_i$ é o número de folhas de tamanho $A_i$. O espaço de estados $\\mathcal{S}$ é o conjunto de todos os vetores alcançáveis a partir do estado inicial.\n",
    "\n",
    "* **Estado Inicial ($s_0$):** O processo se inicia no estado $s_0 = (1, 0, 0, 0, 0)$.\n",
    "* **Estados de Absorção:** O processo termina em qualquer estado $s_{abs}$ da forma $(0, 0, 0, 0, c_5)$ com $c_5 > 0$. Nenhuma transição é possível a partir desses estados.\n",
    "\n",
    "### 1.3. Mecanismo de Transição\n",
    "A transição do estado $s$ para um estado $s'$ é um evento probabilístico. Dado um estado $s$ com um número total de folhas $N = \\sum_{i=1}^{5} c_i$, a probabilidade de selecionar uma folha de tamanho $A_i$ é $\\frac{c_i}{N}$. A seleção de uma folha $A_i$ ($i<5$) induz uma transição para um novo estado $s'$ onde a contagem $c_i$ é decrementada de 1 e a contagem $c_{i+1}$ é incrementada de 2.\n",
    "\n",
    "---\n",
    "\n",
    "## 2. Formulação do Valor Esperado\n",
    "\n",
    "### 2.1. Variável Aleatória de Interesse\n",
    "Seja $\\mathcal{A}$ o evento em que o lote contém exatamente uma folha, i.e., $\\sum c_i = 1$.\n",
    "Seja $I_k$ uma variável aleatória indicadora tal que:\n",
    "$$\n",
    "I_k = \\begin{cases} \n",
    "1 & \\text{se o evento } \\mathcal{A} \\text{ ocorre no passo } k \\\\\n",
    "0 & \\text{caso contrário}\n",
    "\\end{cases}\n",
    "$$\n",
    "A quantidade total de vezes que o evento $\\mathcal{A}$ é observado é a variável aleatória $X = \\sum_{k=1}^{T} I_k$, onde $T$ é o número total (aleatório) de passos até a absorção.\n",
    "\n",
    "### 2.2. Expectativa Condicional\n",
    "O nosso objetivo é calcular $E[X]$. Utilizamos a lei da expectativa total, formulando o problema de forma recursiva em termos da expectativa condicional. Seja $E(s)$ o valor esperado de $X$ dado que o processo se inicia no estado $s$.\n",
    "$$ E(s) = E[X | S_0=s] $$\n",
    "\n",
    "A relação fundamental para $E(s)$ pode ser expressa da seguinte forma, onde $\\mathbb{1}_{\\mathcal{A}}(s)$ é uma função indicadora que vale 1 se $s$ é um estado de folha única e 0 caso contrário:\n",
    "$$ E(s) = \\mathbb{1}_{\\mathcal{A}}(s) + \\sum_{s' \\in \\mathcal{S}} P(s'|s) E(s') $$\n",
    "\n",
    "Aqui, $P(s'|s)$ é a probabilidade de transição de $s$ para $s'$. A condição de contorno é que para qualquer estado de absorção $s_{abs}$, $E(s_{abs}) = 0$.\n",
    "\n",
    "### 2.3. Aplicação ao Problema\n",
    "Conforme o enunciado, o estado inicial $s_0 = (1, 0, 0, 0, 0)$ é a configuração do sistema. A primeira transição do processo é determinística, pois há apenas uma folha a ser escolhida.\n",
    "$$ s_0 = (1, 0, 0, 0, 0) \\xrightarrow{P=1} s_1 = (0, 2, 0, 0, 0) $$\n",
    "O processo estocástico e a observação de eventos começam a partir do estado $s_1$. O evento $\\mathcal{A}$ não ocorre em $s_0$ no contexto da contagem de eventos do processo. Portanto, a quantidade de interesse é $E(s_1)$.\n",
    "\n",
    "---\n",
    "\n",
    "\n",
    "## 3. Como o Resultado é Calculado\n",
    "\n",
    "O resultado é encontrado através de uma **simulação computacional passo a passo** que acompanha todas as configurações possíveis do envelope (os \"estados\") e a probabilidade exata de cada uma ocorrer ao longo do tempo.\n",
    "\n",
    "O método funciona da seguinte maneira:\n",
    "\n",
    "1.  **Ponto de Partida:** A simulação começa no início do lote 2, com o estado `(1, 1, 1, 1)` tendo 100% de probabilidade de ocorrência. Um contador para o `valor_esperado` é iniciado em 0.\n",
    "\n",
    "2.  **Iteração Lote a Lote:** O método avança lote por lote, de 2 a 15. Em cada lote, ele realiza duas ações principais:\n",
    "    * **A) Acumular o Valor Esperado:** Primeiro, ele verifica a lista de todos os estados possíveis para o lote atual. Se um estado contém apenas uma folha (`soma do vetor = 1`), a probabilidade desse estado é somada ao `valor_esperado` total.\n",
    "    * **B) Calcular o Próximo Estado:** Em seguida, ele calcula a distribuição de probabilidades para o lote seguinte. Para cada estado atual, o método simula a retirada aleatória de cada tipo de folha, aplica a regra de corte correspondente, e calcula a probabilidade do novo estado resultante. Todas essas novas probabilidades são coletadas para formar o conjunto de estados do próximo lote.\n",
    "\n",
    "3.  **Resultado Final:** Este processo se repete 14 vezes (para os lotes de 2 a 15). Ao final, a variável `valor_esperado` contém a soma de todas as probabilidades calculadas na Ação A, que é a resposta para o problema.\n",
    "\n",
    "Após realizar todos esses cálculos, o valor encontrado é:\n",
    "\n",
    "**Resultado $\\approx$ 0.464399**\n",
    "\n",
    "---\n",
    "\n",
    "## 4. Conclusão e Significado do Resultado\n",
    "\n",
    "A solução para este problema foi obtida através de uma simulação iterativa que modela fielmente o processo probabilístico descrito. Em vez de uma fórmula matemática fechada, essa abordagem nos permite \"observar\" a evolução da distribuição de probabilidades do sistema ao longo do tempo.\n",
    "\n",
    "O resultado final, **aproximadamente 0.464399**, pode ser entendido como uma média:\n",
    "\n",
    "* Se pudéssemos observar o processo desta gráfica por muitas e muitas semanas, em média, o supervisor encontraria o envelope com uma única folha cerca de **0.46 vezes por semana** (dentro do período de observação dos 14 lotes).\n",
    "\n",
    "Este número é a soma das probabilidades, calculadas em cada um dos 14 lotes, de que o envelope contenha exatamente uma folha. A simulação passo a passo é uma ferramenta poderosa que nos permite calcular essa soma, mesmo quando o número de estados possíveis cresce e as probabilidades se ramificam a cada etapa."
   ]
  },
  {
   "cell_type": "code",
   "execution_count": 6,
   "id": "71f5db84",
   "metadata": {},
   "outputs": [
    {
     "name": "stdout",
     "output_type": "stream",
     "text": [
      "O valor esperado é: 0.464399\n"
     ]
    }
   ],
   "source": [
    "from collections import defaultdict\n",
    "\n",
    "# Este código resolve o problema específico descrito no prompt.\n",
    "\n",
    "# --- 1. Estado Inicial ---\n",
    "# O estado é uma tupla (c2, c3, c4, c5) representando a contagem\n",
    "# de folhas A2, A3, A4 e A5.\n",
    "# Após preparar a folha para o 1º lote, o envelope contém {A2, A3, A4, A5}.\n",
    "# Portanto, o estado inicial para o 2º lote é (1, 1, 1, 1) com 100% de probabilidade.\n",
    "probabilidades = defaultdict(float)\n",
    "probabilidades[(1, 1, 1, 1)] = 1.0\n",
    "\n",
    "valor_esperado = 0.0\n",
    "\n",
    "# --- 2. Simulação dos Lotes ---\n",
    "# Iteramos do início do lote 2 até o início do lote 16.\n",
    "# A contagem do valor esperado é feita para os lotes de 2 a 15.\n",
    "for num_lote in range(2, 16):\n",
    "    \n",
    "    # --- 3. Cálculo do Valor Esperado para a Etapa Atual ---\n",
    "    # Verificamos se algum dos estados possíveis contém uma única folha.\n",
    "    # Se sim, adicionamos sua probabilidade ao valor esperado total.\n",
    "    for estado, prob in probabilidades.items():\n",
    "        if sum(estado) == 1:\n",
    "            valor_esperado += prob\n",
    "\n",
    "    # --- 4. Cálculo das Probabilidades da Próxima Etapa ---\n",
    "    proximas_probabilidades = defaultdict(float)\n",
    "    for estado, prob in probabilidades.items():\n",
    "        n2, n3, n4, n5 = estado\n",
    "        total_folhas = sum(estado)\n",
    "\n",
    "        if total_folhas == 0:\n",
    "            continue\n",
    "\n",
    "        # Lógica de transição ao retirar uma folha A2\n",
    "        if n2 > 0:\n",
    "            p_retirada = n2 / total_folhas\n",
    "            # Remove A2, adiciona A3, A4, A5 (após usar uma A5)\n",
    "            proximo_estado = (n2 - 1, n3 + 1, n4 + 1, n5 + 1)\n",
    "            proximas_probabilidades[proximo_estado] += prob * p_retirada\n",
    "        \n",
    "        # Lógica de transição ao retirar uma folha A3\n",
    "        if n3 > 0:\n",
    "            p_retirada = n3 / total_folhas\n",
    "            # Remove A3, adiciona A4, A5 (após usar uma A5)\n",
    "            proximo_estado = (n2, n3 - 1, n4 + 1, n5 + 1)\n",
    "            proximas_probabilidades[proximo_estado] += prob * p_retirada\n",
    "            \n",
    "        # Lógica de transição ao retirar uma folha A4\n",
    "        if n4 > 0:\n",
    "            p_retirada = n4 / total_folhas\n",
    "            # Remove A4, adiciona A5 (após usar uma A5)\n",
    "            proximo_estado = (n2, n3, n4 - 1, n5 + 1)\n",
    "            proximas_probabilidades[proximo_estado] += prob * p_retirada\n",
    "\n",
    "        # Lógica de transição ao retirar uma folha A5\n",
    "        if n5 > 0:\n",
    "            p_retirada = n5 / total_folhas\n",
    "            # Remove A5\n",
    "            proximo_estado = (n2, n3, n4, n5 - 1)\n",
    "            proximas_probabilidades[proximo_estado] += prob * p_retirada\n",
    "            \n",
    "    # Atualiza o dicionário de probabilidades para a próxima iteração\n",
    "    probabilidades = proximas_probabilidades\n",
    "\n",
    "# --- 5. Resultado Final ---\n",
    "# Arredonda a resposta para 6 casas decimais\n",
    "resposta_final = round(valor_esperado, 6)\n",
    "print(f\"O valor esperado é: {resposta_final:.6f}\")"
   ]
  },
  {
   "cell_type": "code",
   "execution_count": 7,
   "id": "ab0be6c9",
   "metadata": {},
   "outputs": [
    {
     "name": "stdout",
     "output_type": "stream",
     "text": [
      "dict_items([((0, 0, 0, 1), 0.9999999999999998)])\n"
     ]
    }
   ],
   "source": [
    "print(probabilidades.items())"
   ]
  },
  {
   "cell_type": "markdown",
   "id": "361ddf57",
   "metadata": {},
   "source": [
    "# Problem 205"
   ]
  },
  {
   "cell_type": "markdown",
   "id": "3f6bfa6c",
   "metadata": {},
   "source": [
    "# Problem 329"
   ]
  }
 ],
 "metadata": {
  "kernelspec": {
   "display_name": "irsdk",
   "language": "python",
   "name": "python3"
  },
  "language_info": {
   "codemirror_mode": {
    "name": "ipython",
    "version": 3
   },
   "file_extension": ".py",
   "mimetype": "text/x-python",
   "name": "python",
   "nbconvert_exporter": "python",
   "pygments_lexer": "ipython3",
   "version": "3.13.5"
  }
 },
 "nbformat": 4,
 "nbformat_minor": 5
}
