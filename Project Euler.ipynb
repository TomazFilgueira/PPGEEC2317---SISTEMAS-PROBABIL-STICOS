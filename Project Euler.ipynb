{
 "cells": [
  {
   "cell_type": "markdown",
   "id": "22cbfb60",
   "metadata": {},
   "source": [
    "# Project Euler introduction:\n",
    "\n",
    "What is Project Euler?\n",
    "Project Euler is a series of challenging mathematical/computer programming problems that will require more than just mathematical insights to solve. \n",
    "Although mathematics will help you arrive at elegant and efficient methods, the use of a computer and programming skills will be required to solve most problems.\n",
    "\n",
    "The motivation for starting Project Euler, and its continuation, is to provide a platform for the inquiring mind to delve into unfamiliar areas and learn new concepts in a fun and recreational context.\n"
   ]
  },
  {
   "cell_type": "markdown",
   "id": "e24b087b",
   "metadata": {},
   "source": [
    "# Problem 0 \n",
    "\n",
    "A number is a perfect square, or a square number, if it is the square of a positive integer.\n",
    "For example, 25 is a square number because 5² = 5 X 5 = 25; it is also an odd square.\n",
    "\n",
    "The first 5 square numbers are: 1, 4, 9, 16, 25\n",
    ", and the sum of the odd squares is 1 + 9 + 25 = 35.\n",
    "\n",
    "Among the first 410 thousand square numbers, what is the sum of all the odd squares?"
   ]
  },
  {
   "cell_type": "code",
   "execution_count": 3,
   "id": "b7f6e634",
   "metadata": {},
   "outputs": [
    {
     "name": "stdout",
     "output_type": "stream",
     "text": [
      "11486833333265000\n"
     ]
    }
   ],
   "source": [
    "# Define o limite\n",
    "limite = 410000\n",
    "\n",
    "# Inicializa a soma\n",
    "soma_total = 0\n",
    "\n",
    "# Itera de 1 até o limite\n",
    "for i in range(1, limite + 1):\n",
    "  # Verifica se o número é ímpar\n",
    "  if i % 2 != 0:\n",
    "    # Adiciona o quadrado do número à soma\n",
    "    soma_total += i * i\n",
    "\n",
    "print(soma_total)\n",
    "# Resultado: 11486765"
   ]
  },
  {
   "cell_type": "markdown",
   "id": "13cd34ab",
   "metadata": {},
   "source": [
    "# Problem 151\n",
    "\n",
    "Valor esperado E[x] = $\\sum$ probabilidades quem levam ao evento \"1 folha\""
   ]
  },
  {
   "cell_type": "code",
   "execution_count": null,
   "id": "71f5db84",
   "metadata": {},
   "outputs": [
    {
     "name": "stdout",
     "output_type": "stream",
     "text": [
      "0.464399\n"
     ]
    }
   ],
   "source": [
    "from collections import defaultdict\n",
    "\n",
    "\n",
    "#Lote 1: apenas A1\n",
    "# probabilidades= {(1,0,0,0,0):1.0}\n",
    "\n",
    "# Estado inicial para o Lote 2\n",
    "# O estado é uma tupla (A2, A3, A4, A5)\n",
    "probabilidades = {(1, 1, 1, 1): 1.0}\n",
    "valor_esperado = 0.0\n",
    "\n",
    "# Itera através dos lotes de 2 a 15 (o período que nos interessa)\n",
    "for num_lote in range(2, 16):\n",
    "    # Verifica o evento: \"folha única no envelope\"\n",
    "    # O valor esperado é a soma das probabilidades deste evento em cada tentativa\n",
    "    for estado, prob in probabilidades.items():\n",
    "        \n",
    "        if sum(estado) == 1:\n",
    "            valor_esperado += prob\n",
    "\n",
    "    # Calcula as probabilidades para o próximo lote\n",
    "    proximas_probabilidades = defaultdict(float)\n",
    "    for estado, prob in probabilidades.items():\n",
    "        n2, n3, n4, n5 = estado\n",
    "        total_folhas = sum(estado)\n",
    "\n",
    "        if total_folhas == 0:\n",
    "            continue\n",
    "\n",
    "        # Retirar A2\n",
    "        if n2 > 0:\n",
    "            p_retirada = n2 / total_folhas\n",
    "            proximo_estado = (n2 - 1, n3 + 1, n4 + 1, n5 + 1)\n",
    "            proximas_probabilidades[proximo_estado] += prob * p_retirada\n",
    "        \n",
    "        # Retirar A3\n",
    "        if n3 > 0:\n",
    "            p_retirada = n3 / total_folhas\n",
    "            proximo_estado = (n2, n3 - 1, n4 + 1, n5 + 1)\n",
    "            proximas_probabilidades[proximo_estado] += prob * p_retirada\n",
    "            \n",
    "        # Retirar A4\n",
    "        if n4 > 0:\n",
    "            p_retirada = n4 / total_folhas\n",
    "            proximo_estado = (n2, n3, n4 - 1, n5 + 1)\n",
    "            proximas_probabilidades[proximo_estado] += prob * p_retirada\n",
    "\n",
    "        # Retirar A5\n",
    "        if n5 > 0:\n",
    "            p_retirada = n5 / total_folhas\n",
    "            proximo_estado = (n2, n3, n4, n5 - 1)\n",
    "            proximas_probabilidades[proximo_estado] += prob * p_retirada\n",
    "            \n",
    "    probabilidades = proximas_probabilidades\n",
    "\n",
    "# Resultado final arredondado para 6 casas decimais\n",
    "resposta_final = round(valor_esperado, 6)\n",
    "print(resposta_final)"
   ]
  },
  {
   "cell_type": "code",
   "execution_count": 7,
   "id": "ab0be6c9",
   "metadata": {},
   "outputs": [
    {
     "name": "stdout",
     "output_type": "stream",
     "text": [
      "dict_items([((0, 0, 0, 1), 0.9999999999999998)])\n"
     ]
    }
   ],
   "source": [
    "print(probabilidades.items())"
   ]
  },
  {
   "cell_type": "markdown",
   "id": "361ddf57",
   "metadata": {},
   "source": [
    "# Problem 205"
   ]
  },
  {
   "cell_type": "markdown",
   "id": "3f6bfa6c",
   "metadata": {},
   "source": [
    "# Problem 329"
   ]
  }
 ],
 "metadata": {
  "kernelspec": {
   "display_name": "Python 3",
   "language": "python",
   "name": "python3"
  },
  "language_info": {
   "codemirror_mode": {
    "name": "ipython",
    "version": 3
   },
   "file_extension": ".py",
   "mimetype": "text/x-python",
   "name": "python",
   "nbconvert_exporter": "python",
   "pygments_lexer": "ipython3",
   "version": "3.9.13"
  }
 },
 "nbformat": 4,
 "nbformat_minor": 5
}
